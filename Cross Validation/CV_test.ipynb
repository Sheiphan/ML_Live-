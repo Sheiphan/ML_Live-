{
 "cells": [
  {
   "cell_type": "code",
   "execution_count": 93,
   "metadata": {},
   "outputs": [],
   "source": [
    "import numpy as np\n",
    "import pandas as pd\n",
    "import matplotlib.pyplot as plt\n",
    "import seaborn as sns "
   ]
  },
  {
   "cell_type": "code",
   "execution_count": 94,
   "metadata": {},
   "outputs": [],
   "source": [
    "df = pd.read_csv('D:\\Python\\ML Live\\Modular1\\ML_Live-\\data\\Advertising.csv')"
   ]
  },
  {
   "cell_type": "code",
   "execution_count": 95,
   "metadata": {},
   "outputs": [
    {
     "data": {
      "text/html": [
       "<div>\n",
       "<style scoped>\n",
       "    .dataframe tbody tr th:only-of-type {\n",
       "        vertical-align: middle;\n",
       "    }\n",
       "\n",
       "    .dataframe tbody tr th {\n",
       "        vertical-align: top;\n",
       "    }\n",
       "\n",
       "    .dataframe thead th {\n",
       "        text-align: right;\n",
       "    }\n",
       "</style>\n",
       "<table border=\"1\" class=\"dataframe\">\n",
       "  <thead>\n",
       "    <tr style=\"text-align: right;\">\n",
       "      <th></th>\n",
       "      <th>TV</th>\n",
       "      <th>radio</th>\n",
       "      <th>newspaper</th>\n",
       "      <th>sales</th>\n",
       "    </tr>\n",
       "  </thead>\n",
       "  <tbody>\n",
       "    <tr>\n",
       "      <th>0</th>\n",
       "      <td>230.1</td>\n",
       "      <td>37.8</td>\n",
       "      <td>69.2</td>\n",
       "      <td>22.1</td>\n",
       "    </tr>\n",
       "    <tr>\n",
       "      <th>1</th>\n",
       "      <td>44.5</td>\n",
       "      <td>39.3</td>\n",
       "      <td>45.1</td>\n",
       "      <td>10.4</td>\n",
       "    </tr>\n",
       "    <tr>\n",
       "      <th>2</th>\n",
       "      <td>17.2</td>\n",
       "      <td>45.9</td>\n",
       "      <td>69.3</td>\n",
       "      <td>9.3</td>\n",
       "    </tr>\n",
       "    <tr>\n",
       "      <th>3</th>\n",
       "      <td>151.5</td>\n",
       "      <td>41.3</td>\n",
       "      <td>58.5</td>\n",
       "      <td>18.5</td>\n",
       "    </tr>\n",
       "    <tr>\n",
       "      <th>4</th>\n",
       "      <td>180.8</td>\n",
       "      <td>10.8</td>\n",
       "      <td>58.4</td>\n",
       "      <td>12.9</td>\n",
       "    </tr>\n",
       "    <tr>\n",
       "      <th>...</th>\n",
       "      <td>...</td>\n",
       "      <td>...</td>\n",
       "      <td>...</td>\n",
       "      <td>...</td>\n",
       "    </tr>\n",
       "    <tr>\n",
       "      <th>195</th>\n",
       "      <td>38.2</td>\n",
       "      <td>3.7</td>\n",
       "      <td>13.8</td>\n",
       "      <td>7.6</td>\n",
       "    </tr>\n",
       "    <tr>\n",
       "      <th>196</th>\n",
       "      <td>94.2</td>\n",
       "      <td>4.9</td>\n",
       "      <td>8.1</td>\n",
       "      <td>9.7</td>\n",
       "    </tr>\n",
       "    <tr>\n",
       "      <th>197</th>\n",
       "      <td>177.0</td>\n",
       "      <td>9.3</td>\n",
       "      <td>6.4</td>\n",
       "      <td>12.8</td>\n",
       "    </tr>\n",
       "    <tr>\n",
       "      <th>198</th>\n",
       "      <td>283.6</td>\n",
       "      <td>42.0</td>\n",
       "      <td>66.2</td>\n",
       "      <td>25.5</td>\n",
       "    </tr>\n",
       "    <tr>\n",
       "      <th>199</th>\n",
       "      <td>232.1</td>\n",
       "      <td>8.6</td>\n",
       "      <td>8.7</td>\n",
       "      <td>13.4</td>\n",
       "    </tr>\n",
       "  </tbody>\n",
       "</table>\n",
       "<p>200 rows × 4 columns</p>\n",
       "</div>"
      ],
      "text/plain": [
       "        TV  radio  newspaper  sales\n",
       "0    230.1   37.8       69.2   22.1\n",
       "1     44.5   39.3       45.1   10.4\n",
       "2     17.2   45.9       69.3    9.3\n",
       "3    151.5   41.3       58.5   18.5\n",
       "4    180.8   10.8       58.4   12.9\n",
       "..     ...    ...        ...    ...\n",
       "195   38.2    3.7       13.8    7.6\n",
       "196   94.2    4.9        8.1    9.7\n",
       "197  177.0    9.3        6.4   12.8\n",
       "198  283.6   42.0       66.2   25.5\n",
       "199  232.1    8.6        8.7   13.4\n",
       "\n",
       "[200 rows x 4 columns]"
      ]
     },
     "execution_count": 95,
     "metadata": {},
     "output_type": "execute_result"
    }
   ],
   "source": [
    "df"
   ]
  },
  {
   "cell_type": "code",
   "execution_count": 96,
   "metadata": {},
   "outputs": [
    {
     "data": {
      "text/html": [
       "<div>\n",
       "<style scoped>\n",
       "    .dataframe tbody tr th:only-of-type {\n",
       "        vertical-align: middle;\n",
       "    }\n",
       "\n",
       "    .dataframe tbody tr th {\n",
       "        vertical-align: top;\n",
       "    }\n",
       "\n",
       "    .dataframe thead th {\n",
       "        text-align: right;\n",
       "    }\n",
       "</style>\n",
       "<table border=\"1\" class=\"dataframe\">\n",
       "  <thead>\n",
       "    <tr style=\"text-align: right;\">\n",
       "      <th></th>\n",
       "      <th>TV</th>\n",
       "      <th>radio</th>\n",
       "      <th>newspaper</th>\n",
       "    </tr>\n",
       "  </thead>\n",
       "  <tbody>\n",
       "    <tr>\n",
       "      <th>0</th>\n",
       "      <td>230.1</td>\n",
       "      <td>37.8</td>\n",
       "      <td>69.2</td>\n",
       "    </tr>\n",
       "    <tr>\n",
       "      <th>1</th>\n",
       "      <td>44.5</td>\n",
       "      <td>39.3</td>\n",
       "      <td>45.1</td>\n",
       "    </tr>\n",
       "    <tr>\n",
       "      <th>2</th>\n",
       "      <td>17.2</td>\n",
       "      <td>45.9</td>\n",
       "      <td>69.3</td>\n",
       "    </tr>\n",
       "    <tr>\n",
       "      <th>3</th>\n",
       "      <td>151.5</td>\n",
       "      <td>41.3</td>\n",
       "      <td>58.5</td>\n",
       "    </tr>\n",
       "    <tr>\n",
       "      <th>4</th>\n",
       "      <td>180.8</td>\n",
       "      <td>10.8</td>\n",
       "      <td>58.4</td>\n",
       "    </tr>\n",
       "    <tr>\n",
       "      <th>...</th>\n",
       "      <td>...</td>\n",
       "      <td>...</td>\n",
       "      <td>...</td>\n",
       "    </tr>\n",
       "    <tr>\n",
       "      <th>195</th>\n",
       "      <td>38.2</td>\n",
       "      <td>3.7</td>\n",
       "      <td>13.8</td>\n",
       "    </tr>\n",
       "    <tr>\n",
       "      <th>196</th>\n",
       "      <td>94.2</td>\n",
       "      <td>4.9</td>\n",
       "      <td>8.1</td>\n",
       "    </tr>\n",
       "    <tr>\n",
       "      <th>197</th>\n",
       "      <td>177.0</td>\n",
       "      <td>9.3</td>\n",
       "      <td>6.4</td>\n",
       "    </tr>\n",
       "    <tr>\n",
       "      <th>198</th>\n",
       "      <td>283.6</td>\n",
       "      <td>42.0</td>\n",
       "      <td>66.2</td>\n",
       "    </tr>\n",
       "    <tr>\n",
       "      <th>199</th>\n",
       "      <td>232.1</td>\n",
       "      <td>8.6</td>\n",
       "      <td>8.7</td>\n",
       "    </tr>\n",
       "  </tbody>\n",
       "</table>\n",
       "<p>200 rows × 3 columns</p>\n",
       "</div>"
      ],
      "text/plain": [
       "        TV  radio  newspaper\n",
       "0    230.1   37.8       69.2\n",
       "1     44.5   39.3       45.1\n",
       "2     17.2   45.9       69.3\n",
       "3    151.5   41.3       58.5\n",
       "4    180.8   10.8       58.4\n",
       "..     ...    ...        ...\n",
       "195   38.2    3.7       13.8\n",
       "196   94.2    4.9        8.1\n",
       "197  177.0    9.3        6.4\n",
       "198  283.6   42.0       66.2\n",
       "199  232.1    8.6        8.7\n",
       "\n",
       "[200 rows x 3 columns]"
      ]
     },
     "execution_count": 96,
     "metadata": {},
     "output_type": "execute_result"
    }
   ],
   "source": [
    "X = df.drop('sales', axis = 1)\n",
    "X"
   ]
  },
  {
   "cell_type": "code",
   "execution_count": 97,
   "metadata": {},
   "outputs": [
    {
     "data": {
      "text/plain": [
       "0      22.1\n",
       "1      10.4\n",
       "2       9.3\n",
       "3      18.5\n",
       "4      12.9\n",
       "       ... \n",
       "195     7.6\n",
       "196     9.7\n",
       "197    12.8\n",
       "198    25.5\n",
       "199    13.4\n",
       "Name: sales, Length: 200, dtype: float64"
      ]
     },
     "execution_count": 97,
     "metadata": {},
     "output_type": "execute_result"
    }
   ],
   "source": [
    "y = df['sales']\n",
    "y"
   ]
  },
  {
   "cell_type": "code",
   "execution_count": null,
   "metadata": {},
   "outputs": [],
   "source": []
  },
  {
   "cell_type": "code",
   "execution_count": 98,
   "metadata": {},
   "outputs": [],
   "source": [
    "from sklearn.model_selection import train_test_split\n"
   ]
  },
  {
   "cell_type": "code",
   "execution_count": 99,
   "metadata": {},
   "outputs": [],
   "source": [
    "X_train, X_test, y_train, y_test = train_test_split( X, y, test_size=0.3, random_state=101)"
   ]
  },
  {
   "cell_type": "code",
   "execution_count": null,
   "metadata": {},
   "outputs": [],
   "source": []
  },
  {
   "cell_type": "code",
   "execution_count": 100,
   "metadata": {},
   "outputs": [],
   "source": [
    "from sklearn.preprocessing import StandardScaler"
   ]
  },
  {
   "cell_type": "code",
   "execution_count": 101,
   "metadata": {},
   "outputs": [],
   "source": [
    "scaler = StandardScaler()"
   ]
  },
  {
   "cell_type": "code",
   "execution_count": 102,
   "metadata": {},
   "outputs": [],
   "source": [
    "X_train_scaled = scaler.fit_transform(X_train)"
   ]
  },
  {
   "cell_type": "code",
   "execution_count": 103,
   "metadata": {},
   "outputs": [],
   "source": [
    "X_test_scaled = scaler.fit_transform(X_test)"
   ]
  },
  {
   "cell_type": "markdown",
   "metadata": {},
   "source": [
    "### Model 1"
   ]
  },
  {
   "cell_type": "code",
   "execution_count": 104,
   "metadata": {},
   "outputs": [],
   "source": [
    "from sklearn.linear_model import Ridge"
   ]
  },
  {
   "cell_type": "code",
   "execution_count": 105,
   "metadata": {},
   "outputs": [],
   "source": [
    "model = Ridge(alpha=1)"
   ]
  },
  {
   "cell_type": "code",
   "execution_count": 106,
   "metadata": {},
   "outputs": [
    {
     "data": {
      "text/plain": [
       "Ridge(alpha=1)"
      ]
     },
     "execution_count": 106,
     "metadata": {},
     "output_type": "execute_result"
    }
   ],
   "source": [
    "model.fit(X_train_scaled, y_train)"
   ]
  },
  {
   "cell_type": "code",
   "execution_count": 107,
   "metadata": {},
   "outputs": [],
   "source": [
    "y_pred = model.predict(X_test_scaled)"
   ]
  },
  {
   "cell_type": "code",
   "execution_count": null,
   "metadata": {},
   "outputs": [],
   "source": []
  },
  {
   "cell_type": "code",
   "execution_count": 108,
   "metadata": {},
   "outputs": [],
   "source": [
    "from sklearn.metrics import mean_squared_error"
   ]
  },
  {
   "cell_type": "code",
   "execution_count": 109,
   "metadata": {},
   "outputs": [
    {
     "data": {
      "text/plain": [
       "3.339371038444087"
      ]
     },
     "execution_count": 109,
     "metadata": {},
     "output_type": "execute_result"
    }
   ],
   "source": [
    "mean_squared_error(y_pred, y_test)"
   ]
  },
  {
   "cell_type": "code",
   "execution_count": 110,
   "metadata": {},
   "outputs": [
    {
     "data": {
      "text/plain": [
       "1.8273946039222309"
      ]
     },
     "execution_count": 110,
     "metadata": {},
     "output_type": "execute_result"
    }
   ],
   "source": [
    "RMSE = np.sqrt(mean_squared_error(y_pred,y_test))\n",
    "RMSE"
   ]
  },
  {
   "cell_type": "markdown",
   "metadata": {},
   "source": [
    "### Model 2"
   ]
  },
  {
   "cell_type": "code",
   "execution_count": 111,
   "metadata": {},
   "outputs": [],
   "source": [
    "model2 = Ridge(alpha = 100)"
   ]
  },
  {
   "cell_type": "code",
   "execution_count": 112,
   "metadata": {},
   "outputs": [
    {
     "data": {
      "text/plain": [
       "Ridge(alpha=100)"
      ]
     },
     "execution_count": 112,
     "metadata": {},
     "output_type": "execute_result"
    }
   ],
   "source": [
    "model2.fit(X_train_scaled, y_train)"
   ]
  },
  {
   "cell_type": "code",
   "execution_count": 113,
   "metadata": {},
   "outputs": [],
   "source": [
    "y_pred2 = model2.predict(X_test_scaled)"
   ]
  },
  {
   "cell_type": "code",
   "execution_count": 114,
   "metadata": {},
   "outputs": [
    {
     "data": {
      "text/plain": [
       "2.909928819811334"
      ]
     },
     "execution_count": 114,
     "metadata": {},
     "output_type": "execute_result"
    }
   ],
   "source": [
    "RMSE2 = np.sqrt(mean_squared_error(y_pred2, y_test))\n",
    "RMSE2"
   ]
  },
  {
   "cell_type": "markdown",
   "metadata": {},
   "source": [
    "#### instead of making different models for n comparing the error we use CV \n",
    "\n",
    "#### Manually splting the data into train, test & validation.\n",
    "\n",
    "#### model 3 & 4"
   ]
  },
  {
   "cell_type": "code",
   "execution_count": 115,
   "metadata": {},
   "outputs": [],
   "source": [
    "X_train, X_other, y_train, y_other = train_test_split( X, y, test_size=0.3, random_state=101)"
   ]
  },
  {
   "cell_type": "code",
   "execution_count": 116,
   "metadata": {},
   "outputs": [],
   "source": [
    "# test size = 0.5( 50% of 30% data)\n",
    "X_eval, X_test, y_eval, y_test = train_test_split(X_other, y_other, test_size=0.5, random_state= 101)\n"
   ]
  },
  {
   "cell_type": "code",
   "execution_count": 117,
   "metadata": {},
   "outputs": [
    {
     "data": {
      "text/plain": [
       "140"
      ]
     },
     "execution_count": 117,
     "metadata": {},
     "output_type": "execute_result"
    }
   ],
   "source": [
    "len(X_train)   # 70% of df"
   ]
  },
  {
   "cell_type": "code",
   "execution_count": 118,
   "metadata": {},
   "outputs": [
    {
     "data": {
      "text/plain": [
       "60"
      ]
     },
     "execution_count": 118,
     "metadata": {},
     "output_type": "execute_result"
    }
   ],
   "source": [
    "len(X_other)   # 30% of df"
   ]
  },
  {
   "cell_type": "code",
   "execution_count": 119,
   "metadata": {},
   "outputs": [
    {
     "data": {
      "text/plain": [
       "30"
      ]
     },
     "execution_count": 119,
     "metadata": {},
     "output_type": "execute_result"
    }
   ],
   "source": [
    "len(X_eval)   # 50% of other, 15% of df"
   ]
  },
  {
   "cell_type": "code",
   "execution_count": 120,
   "metadata": {},
   "outputs": [
    {
     "data": {
      "text/plain": [
       "30"
      ]
     },
     "execution_count": 120,
     "metadata": {},
     "output_type": "execute_result"
    }
   ],
   "source": [
    "len(X_test)   # 50% of other, 15% of df"
   ]
  },
  {
   "cell_type": "code",
   "execution_count": 121,
   "metadata": {},
   "outputs": [],
   "source": [
    "X_train_scaled_cv = scaler.fit_transform(X_train)\n",
    "X_other_scaled_cv = scaler.fit_transform(X_other)\n",
    "X_eval_scaled_cv = scaler.fit_transform(X_eval)    # validation data\n",
    "X_test_scaled_cv = scaler.fit_transform(X_test)   "
   ]
  },
  {
   "cell_type": "markdown",
   "metadata": {},
   "source": [
    "### model 3"
   ]
  },
  {
   "cell_type": "code",
   "execution_count": 122,
   "metadata": {},
   "outputs": [
    {
     "data": {
      "text/plain": [
       "Ridge(alpha=100)"
      ]
     },
     "execution_count": 122,
     "metadata": {},
     "output_type": "execute_result"
    }
   ],
   "source": [
    "model3 = Ridge(alpha = 100)\n",
    "model3.fit(X_train_scaled_cv, y_train)"
   ]
  },
  {
   "cell_type": "code",
   "execution_count": 123,
   "metadata": {},
   "outputs": [],
   "source": [
    "y_eval_pred  = model3.predict(X_eval_scaled_cv)"
   ]
  },
  {
   "cell_type": "code",
   "execution_count": 124,
   "metadata": {},
   "outputs": [
    {
     "data": {
      "text/plain": [
       "2.8707128055519595"
      ]
     },
     "execution_count": 124,
     "metadata": {},
     "output_type": "execute_result"
    }
   ],
   "source": [
    "RMSE_eval_3 = np.sqrt(mean_squared_error(y_eval_pred,y_eval))\n",
    "RMSE_eval_3\n"
   ]
  },
  {
   "cell_type": "markdown",
   "metadata": {},
   "source": [
    "### model 4"
   ]
  },
  {
   "cell_type": "code",
   "execution_count": 125,
   "metadata": {},
   "outputs": [
    {
     "data": {
      "text/plain": [
       "Ridge(alpha=1)"
      ]
     },
     "execution_count": 125,
     "metadata": {},
     "output_type": "execute_result"
    }
   ],
   "source": [
    "model4 = Ridge(alpha = 1)\n",
    "model4.fit(X_train_scaled_cv, y_train)"
   ]
  },
  {
   "cell_type": "code",
   "execution_count": 126,
   "metadata": {},
   "outputs": [],
   "source": [
    "new_pred_eval = model4.predict(X_eval_scaled_cv)"
   ]
  },
  {
   "cell_type": "code",
   "execution_count": 127,
   "metadata": {},
   "outputs": [
    {
     "data": {
      "text/plain": [
       "1.8106261777385357"
      ]
     },
     "execution_count": 127,
     "metadata": {},
     "output_type": "execute_result"
    }
   ],
   "source": [
    "RMSE_new_eval_4 = np.sqrt(mean_squared_error(new_pred_eval,y_eval))\n",
    "RMSE_new_eval_4"
   ]
  },
  {
   "cell_type": "code",
   "execution_count": 128,
   "metadata": {},
   "outputs": [],
   "source": [
    "y_final_test_pred = model4.predict(X_test_scaled_cv)"
   ]
  },
  {
   "cell_type": "code",
   "execution_count": 129,
   "metadata": {},
   "outputs": [
    {
     "data": {
      "text/plain": [
       "1.8352770059279278"
      ]
     },
     "execution_count": 129,
     "metadata": {},
     "output_type": "execute_result"
    }
   ],
   "source": [
    "RMSE_test_4 = np.sqrt(mean_squared_error(y_test, y_final_test_pred))\n",
    "RMSE_test_4"
   ]
  },
  {
   "cell_type": "markdown",
   "metadata": {},
   "source": [
    "# Cross_Val_Score(k-fold CV)"
   ]
  },
  {
   "cell_type": "code",
   "execution_count": 130,
   "metadata": {},
   "outputs": [],
   "source": [
    "#   CREATE X & y\n",
    "X = df.drop('sales', axis = 1)\n",
    "y = df['sales']\n",
    "\n",
    "\n",
    "#   TRAIN TEST SPLIT\n",
    "from sklearn.model_selection import train_test_split\n",
    "X_train, X_test, y_train, y_test = train_test_split(X, y, test_size=0.3, random_state=101)\n",
    "    \n",
    "    \n",
    "#   SCALE DATA\n",
    "from sklearn.preprocessing import StandardScaler\n",
    "scaler  = StandardScaler()\n",
    "X_train = scaler.fit_transform(X_train)\n",
    "X_test  = scaler.fit_transform(X_test)\n",
    "\n",
    "\n",
    "    "
   ]
  },
  {
   "cell_type": "code",
   "execution_count": 131,
   "metadata": {},
   "outputs": [],
   "source": [
    "model_1 = Ridge(alpha = 100)"
   ]
  },
  {
   "cell_type": "code",
   "execution_count": 132,
   "metadata": {},
   "outputs": [],
   "source": [
    "from sklearn.model_selection import cross_val_score"
   ]
  },
  {
   "cell_type": "code",
   "execution_count": 133,
   "metadata": {},
   "outputs": [],
   "source": [
    "scores = cross_val_score(model_1, X_train, y_train, scoring='neg_mean_squared_error', cv=5)"
   ]
  },
  {
   "cell_type": "code",
   "execution_count": 134,
   "metadata": {},
   "outputs": [
    {
     "data": {
      "text/plain": [
       "array([-2.31243044, -1.74653361, -2.56211701, -2.01873159, -2.27951906])"
      ]
     },
     "execution_count": 134,
     "metadata": {},
     "output_type": "execute_result"
    }
   ],
   "source": [
    "scores"
   ]
  },
  {
   "cell_type": "code",
   "execution_count": 135,
   "metadata": {},
   "outputs": [
    {
     "data": {
      "text/plain": [
       "2.1838663427053207"
      ]
     },
     "execution_count": 135,
     "metadata": {},
     "output_type": "execute_result"
    }
   ],
   "source": [
    "abs(scores.sum()/5)"
   ]
  },
  {
   "cell_type": "code",
   "execution_count": 136,
   "metadata": {},
   "outputs": [
    {
     "data": {
      "text/plain": [
       "-2.1838663427053207"
      ]
     },
     "execution_count": 136,
     "metadata": {},
     "output_type": "execute_result"
    }
   ],
   "source": [
    "scores.mean()"
   ]
  },
  {
   "cell_type": "code",
   "execution_count": 137,
   "metadata": {},
   "outputs": [],
   "source": [
    "model_2 = Ridge(alpha = 1)"
   ]
  },
  {
   "cell_type": "code",
   "execution_count": 138,
   "metadata": {},
   "outputs": [],
   "source": [
    "scores_model_2 = cross_val_score(model_2, X_train, y_train, scoring='neg_mean_squared_error', cv =10)"
   ]
  },
  {
   "cell_type": "code",
   "execution_count": 139,
   "metadata": {},
   "outputs": [
    {
     "data": {
      "text/plain": [
       "array([-1.45717399, -1.5553078 , -1.23877012, -0.76893775, -1.43448944,\n",
       "       -1.4943158 , -1.08136203, -1.25001123, -1.58097132, -1.22332553])"
      ]
     },
     "execution_count": 139,
     "metadata": {},
     "output_type": "execute_result"
    }
   ],
   "source": [
    "scores_model_2"
   ]
  },
  {
   "cell_type": "code",
   "execution_count": 140,
   "metadata": {},
   "outputs": [
    {
     "data": {
      "text/plain": [
       "1.3084665007144651"
      ]
     },
     "execution_count": 140,
     "metadata": {},
     "output_type": "execute_result"
    }
   ],
   "source": [
    "abs(scores_model_2.mean())"
   ]
  },
  {
   "cell_type": "code",
   "execution_count": 141,
   "metadata": {},
   "outputs": [
    {
     "data": {
      "text/plain": [
       "Ridge(alpha=100)"
      ]
     },
     "execution_count": 141,
     "metadata": {},
     "output_type": "execute_result"
    }
   ],
   "source": [
    "model2.fit(X_train, y_train)"
   ]
  },
  {
   "cell_type": "code",
   "execution_count": 142,
   "metadata": {},
   "outputs": [],
   "source": [
    "y_final_test_pred2 = model2.predict(X_test)"
   ]
  },
  {
   "cell_type": "code",
   "execution_count": 143,
   "metadata": {},
   "outputs": [
    {
     "data": {
      "text/plain": [
       "2.909928819811334"
      ]
     },
     "execution_count": 143,
     "metadata": {},
     "output_type": "execute_result"
    }
   ],
   "source": [
    "RMSE_CV = np.sqrt(mean_squared_error(y_test, y_final_test_pred2))\n",
    "RMSE_CV"
   ]
  },
  {
   "cell_type": "code",
   "execution_count": 144,
   "metadata": {},
   "outputs": [],
   "source": [
    "from sklearn.model_selection import cross_validate"
   ]
  },
  {
   "cell_type": "code",
   "execution_count": 145,
   "metadata": {},
   "outputs": [],
   "source": [
    "model_cross_validation = Ridge(alpha = 100)"
   ]
  },
  {
   "cell_type": "code",
   "execution_count": 146,
   "metadata": {},
   "outputs": [],
   "source": [
    "scores_cross_validation = cross_validate(model_cross_validation, X_train, y_train,\n",
    "                                         scoring=['neg_mean_squared_error','neg_median_absolute_error'], cv=10)"
   ]
  },
  {
   "cell_type": "code",
   "execution_count": 147,
   "metadata": {},
   "outputs": [
    {
     "data": {
      "text/html": [
       "<div>\n",
       "<style scoped>\n",
       "    .dataframe tbody tr th:only-of-type {\n",
       "        vertical-align: middle;\n",
       "    }\n",
       "\n",
       "    .dataframe tbody tr th {\n",
       "        vertical-align: top;\n",
       "    }\n",
       "\n",
       "    .dataframe thead th {\n",
       "        text-align: right;\n",
       "    }\n",
       "</style>\n",
       "<table border=\"1\" class=\"dataframe\">\n",
       "  <thead>\n",
       "    <tr style=\"text-align: right;\">\n",
       "      <th></th>\n",
       "      <th>fit_time</th>\n",
       "      <th>score_time</th>\n",
       "      <th>test_neg_mean_absolute_error</th>\n",
       "      <th>test_neg_median_absolute_error</th>\n",
       "    </tr>\n",
       "  </thead>\n",
       "  <tbody>\n",
       "    <tr>\n",
       "      <th>0</th>\n",
       "      <td>0.000000</td>\n",
       "      <td>0.000000</td>\n",
       "      <td>-1.810212</td>\n",
       "      <td>-0.954050</td>\n",
       "    </tr>\n",
       "    <tr>\n",
       "      <th>1</th>\n",
       "      <td>0.000000</td>\n",
       "      <td>0.000000</td>\n",
       "      <td>-2.541958</td>\n",
       "      <td>-1.437208</td>\n",
       "    </tr>\n",
       "    <tr>\n",
       "      <th>2</th>\n",
       "      <td>0.000000</td>\n",
       "      <td>0.000000</td>\n",
       "      <td>-1.469594</td>\n",
       "      <td>-0.982663</td>\n",
       "    </tr>\n",
       "    <tr>\n",
       "      <th>3</th>\n",
       "      <td>0.000000</td>\n",
       "      <td>0.004002</td>\n",
       "      <td>-1.862769</td>\n",
       "      <td>-1.571569</td>\n",
       "    </tr>\n",
       "    <tr>\n",
       "      <th>4</th>\n",
       "      <td>0.000000</td>\n",
       "      <td>0.000000</td>\n",
       "      <td>-2.520697</td>\n",
       "      <td>-2.278097</td>\n",
       "    </tr>\n",
       "    <tr>\n",
       "      <th>5</th>\n",
       "      <td>0.002006</td>\n",
       "      <td>0.000000</td>\n",
       "      <td>-2.459995</td>\n",
       "      <td>-1.786195</td>\n",
       "    </tr>\n",
       "    <tr>\n",
       "      <th>6</th>\n",
       "      <td>0.000000</td>\n",
       "      <td>0.000000</td>\n",
       "      <td>-1.451971</td>\n",
       "      <td>-0.980528</td>\n",
       "    </tr>\n",
       "    <tr>\n",
       "      <th>7</th>\n",
       "      <td>0.000000</td>\n",
       "      <td>0.000000</td>\n",
       "      <td>-2.377395</td>\n",
       "      <td>-2.037711</td>\n",
       "    </tr>\n",
       "    <tr>\n",
       "      <th>8</th>\n",
       "      <td>0.000000</td>\n",
       "      <td>0.000000</td>\n",
       "      <td>-2.443344</td>\n",
       "      <td>-1.956082</td>\n",
       "    </tr>\n",
       "    <tr>\n",
       "      <th>9</th>\n",
       "      <td>0.000000</td>\n",
       "      <td>0.000000</td>\n",
       "      <td>-1.899797</td>\n",
       "      <td>-1.531495</td>\n",
       "    </tr>\n",
       "  </tbody>\n",
       "</table>\n",
       "</div>"
      ],
      "text/plain": [
       "   fit_time  score_time  test_neg_mean_absolute_error  \\\n",
       "0  0.000000    0.000000                     -1.810212   \n",
       "1  0.000000    0.000000                     -2.541958   \n",
       "2  0.000000    0.000000                     -1.469594   \n",
       "3  0.000000    0.004002                     -1.862769   \n",
       "4  0.000000    0.000000                     -2.520697   \n",
       "5  0.002006    0.000000                     -2.459995   \n",
       "6  0.000000    0.000000                     -1.451971   \n",
       "7  0.000000    0.000000                     -2.377395   \n",
       "8  0.000000    0.000000                     -2.443344   \n",
       "9  0.000000    0.000000                     -1.899797   \n",
       "\n",
       "   test_neg_median_absolute_error  \n",
       "0                       -0.954050  \n",
       "1                       -1.437208  \n",
       "2                       -0.982663  \n",
       "3                       -1.571569  \n",
       "4                       -2.278097  \n",
       "5                       -1.786195  \n",
       "6                       -0.980528  \n",
       "7                       -2.037711  \n",
       "8                       -1.956082  \n",
       "9                       -1.531495  "
      ]
     },
     "execution_count": 147,
     "metadata": {},
     "output_type": "execute_result"
    }
   ],
   "source": [
    "scores_cross_validation = pd.DataFrame(scores_cross_validation)\n",
    "scores_cross_validation"
   ]
  },
  {
   "cell_type": "code",
   "execution_count": 148,
   "metadata": {},
   "outputs": [
    {
     "data": {
      "text/plain": [
       "fit_time                          0.000201\n",
       "score_time                        0.000400\n",
       "test_neg_mean_absolute_error     -2.083773\n",
       "test_neg_median_absolute_error   -1.551560\n",
       "dtype: float64"
      ]
     },
     "execution_count": 148,
     "metadata": {},
     "output_type": "execute_result"
    }
   ],
   "source": [
    "scores_cross_validation.mean()"
   ]
  },
  {
   "cell_type": "code",
   "execution_count": 149,
   "metadata": {},
   "outputs": [
    {
     "data": {
      "text/plain": [
       "Ridge(alpha=100)"
      ]
     },
     "execution_count": 149,
     "metadata": {},
     "output_type": "execute_result"
    }
   ],
   "source": [
    "model_cross_validation.fit(X_train, y_train)"
   ]
  },
  {
   "cell_type": "code",
   "execution_count": 150,
   "metadata": {},
   "outputs": [],
   "source": [
    "y_final_test_pred3 = model_cross_validation.predict(X_test)"
   ]
  },
  {
   "cell_type": "code",
   "execution_count": 151,
   "metadata": {},
   "outputs": [
    {
     "data": {
      "text/plain": [
       "2.909928819811334"
      ]
     },
     "execution_count": 151,
     "metadata": {},
     "output_type": "execute_result"
    }
   ],
   "source": [
    "RMSE_cross_validation = np.sqrt(mean_squared_error(y_test, y_final_test_pred3 ))\n",
    "RMSE_cross_validation\n"
   ]
  },
  {
   "cell_type": "markdown",
   "metadata": {},
   "source": [
    "# GridSearchCV\n",
    "#### used for multiple hyperparameter\n"
   ]
  },
  {
   "cell_type": "code",
   "execution_count": 152,
   "metadata": {},
   "outputs": [],
   "source": [
    "#   CREATE X & y\n",
    "X = df.drop('sales', axis = 1)\n",
    "y = df['sales']\n",
    "\n",
    "\n",
    "#   TRAIN TEST SPLIT\n",
    "from sklearn.model_selection import train_test_split\n",
    "X_train, X_test, y_train, y_test = train_test_split(X, y, test_size=0.3, random_state=101)\n",
    "    \n",
    "    \n",
    "#   SCALE DATA\n",
    "from sklearn.preprocessing import StandardScaler\n",
    "scaler  = StandardScaler()\n",
    "X_train = scaler.fit_transform(X_train)\n",
    "X_test  = scaler.fit_transform(X_test)"
   ]
  },
  {
   "cell_type": "code",
   "execution_count": 153,
   "metadata": {},
   "outputs": [],
   "source": [
    "from sklearn.linear_model import ElasticNet"
   ]
  },
  {
   "cell_type": "code",
   "execution_count": 154,
   "metadata": {},
   "outputs": [],
   "source": [
    "base_elastic_model = ElasticNet()"
   ]
  },
  {
   "cell_type": "code",
   "execution_count": 156,
   "metadata": {},
   "outputs": [],
   "source": [
    "param_frid = {'alpha' : [0.1, 1, 10 ,100], 'l1_ratio' : [0.1, 0.5, 0.7, 0.9, 1]}"
   ]
  },
  {
   "cell_type": "code",
   "execution_count": 157,
   "metadata": {},
   "outputs": [],
   "source": [
    "from sklearn.model_selection import GridSearchCV"
   ]
  },
  {
   "cell_type": "code",
   "execution_count": 170,
   "metadata": {},
   "outputs": [],
   "source": [
    "grid_model = GridSearchCV(estimator = base_elastic_model, param_grid= param_frid,\n",
    "                          scoring='neg_mean_squared_error',cv=5, verbose =5)\n",
    "\n",
    "# verbose just give more information"
   ]
  },
  {
   "cell_type": "code",
   "execution_count": 171,
   "metadata": {},
   "outputs": [
    {
     "name": "stdout",
     "output_type": "stream",
     "text": [
      "Fitting 5 folds for each of 20 candidates, totalling 100 fits\n",
      "[CV 1/5] END ..........alpha=0.1, l1_ratio=0.1;, score=-3.453 total time=   0.0s\n",
      "[CV 2/5] END ..........alpha=0.1, l1_ratio=0.1;, score=-1.405 total time=   0.0s\n",
      "[CV 3/5] END ..........alpha=0.1, l1_ratio=0.1;, score=-5.789 total time=   0.0s\n",
      "[CV 4/5] END ..........alpha=0.1, l1_ratio=0.1;, score=-2.187 total time=   0.0s\n",
      "[CV 5/5] END ..........alpha=0.1, l1_ratio=0.1;, score=-4.646 total time=   0.0s\n",
      "[CV 1/5] END ..........alpha=0.1, l1_ratio=0.5;, score=-3.325 total time=   0.0s\n",
      "[CV 2/5] END ..........alpha=0.1, l1_ratio=0.5;, score=-1.428 total time=   0.0s\n",
      "[CV 3/5] END ..........alpha=0.1, l1_ratio=0.5;, score=-5.596 total time=   0.0s\n",
      "[CV 4/5] END ..........alpha=0.1, l1_ratio=0.5;, score=-2.163 total time=   0.0s\n",
      "[CV 5/5] END ..........alpha=0.1, l1_ratio=0.5;, score=-4.452 total time=   0.0s\n",
      "[CV 1/5] END ..........alpha=0.1, l1_ratio=0.7;, score=-3.270 total time=   0.0s\n",
      "[CV 2/5] END ..........alpha=0.1, l1_ratio=0.7;, score=-1.442 total time=   0.0s\n",
      "[CV 3/5] END ..........alpha=0.1, l1_ratio=0.7;, score=-5.502 total time=   0.0s\n",
      "[CV 4/5] END ..........alpha=0.1, l1_ratio=0.7;, score=-2.164 total time=   0.0s\n",
      "[CV 5/5] END ..........alpha=0.1, l1_ratio=0.7;, score=-4.357 total time=   0.0s\n",
      "[CV 1/5] END ..........alpha=0.1, l1_ratio=0.9;, score=-3.221 total time=   0.0s\n",
      "[CV 2/5] END ..........alpha=0.1, l1_ratio=0.9;, score=-1.465 total time=   0.0s\n",
      "[CV 3/5] END ..........alpha=0.1, l1_ratio=0.9;, score=-5.416 total time=   0.0s\n",
      "[CV 4/5] END ..........alpha=0.1, l1_ratio=0.9;, score=-2.173 total time=   0.0s\n",
      "[CV 5/5] END ..........alpha=0.1, l1_ratio=0.9;, score=-4.264 total time=   0.0s\n",
      "[CV 1/5] END ............alpha=0.1, l1_ratio=1;, score=-3.207 total time=   0.0s\n",
      "[CV 2/5] END ............alpha=0.1, l1_ratio=1;, score=-1.480 total time=   0.0s\n",
      "[CV 3/5] END ............alpha=0.1, l1_ratio=1;, score=-5.376 total time=   0.0s\n",
      "[CV 4/5] END ............alpha=0.1, l1_ratio=1;, score=-2.182 total time=   0.0s\n",
      "[CV 5/5] END ............alpha=0.1, l1_ratio=1;, score=-4.218 total time=   0.0s\n",
      "[CV 1/5] END ............alpha=1, l1_ratio=0.1;, score=-9.827 total time=   0.0s\n",
      "[CV 2/5] END ............alpha=1, l1_ratio=0.1;, score=-5.262 total time=   0.0s\n",
      "[CV 3/5] END ...........alpha=1, l1_ratio=0.1;, score=-11.875 total time=   0.0s\n",
      "[CV 4/5] END ............alpha=1, l1_ratio=0.1;, score=-7.449 total time=   0.0s\n",
      "[CV 5/5] END ............alpha=1, l1_ratio=0.1;, score=-8.542 total time=   0.0s\n",
      "[CV 1/5] END ............alpha=1, l1_ratio=0.5;, score=-8.707 total time=   0.0s\n",
      "[CV 2/5] END ............alpha=1, l1_ratio=0.5;, score=-4.214 total time=   0.0s\n",
      "[CV 3/5] END ...........alpha=1, l1_ratio=0.5;, score=-10.879 total time=   0.0s\n",
      "[CV 4/5] END ............alpha=1, l1_ratio=0.5;, score=-6.205 total time=   0.0s\n",
      "[CV 5/5] END ............alpha=1, l1_ratio=0.5;, score=-7.173 total time=   0.0s\n",
      "[CV 1/5] END ............alpha=1, l1_ratio=0.7;, score=-7.921 total time=   0.0s\n",
      "[CV 2/5] END ............alpha=1, l1_ratio=0.7;, score=-3.550 total time=   0.0s\n",
      "[CV 3/5] END ...........alpha=1, l1_ratio=0.7;, score=-10.025 total time=   0.0s\n",
      "[CV 4/5] END ............alpha=1, l1_ratio=0.7;, score=-5.380 total time=   0.0s\n",
      "[CV 5/5] END ............alpha=1, l1_ratio=0.7;, score=-6.325 total time=   0.0s\n",
      "[CV 1/5] END ............alpha=1, l1_ratio=0.9;, score=-6.984 total time=   0.0s\n",
      "[CV 2/5] END ............alpha=1, l1_ratio=0.9;, score=-2.790 total time=   0.0s\n",
      "[CV 3/5] END ............alpha=1, l1_ratio=0.9;, score=-8.997 total time=   0.0s\n",
      "[CV 4/5] END ............alpha=1, l1_ratio=0.9;, score=-4.415 total time=   0.0s\n",
      "[CV 5/5] END ............alpha=1, l1_ratio=0.9;, score=-5.546 total time=   0.0s\n",
      "[CV 1/5] END ..............alpha=1, l1_ratio=1;, score=-6.469 total time=   0.0s\n",
      "[CV 2/5] END ..............alpha=1, l1_ratio=1;, score=-2.391 total time=   0.0s\n",
      "[CV 3/5] END ..............alpha=1, l1_ratio=1;, score=-8.410 total time=   0.0s\n",
      "[CV 4/5] END ..............alpha=1, l1_ratio=1;, score=-3.894 total time=   0.0s\n",
      "[CV 5/5] END ..............alpha=1, l1_ratio=1;, score=-5.106 total time=   0.0s\n",
      "[CV 1/5] END ..........alpha=10, l1_ratio=0.1;, score=-27.385 total time=   0.0s\n",
      "[CV 2/5] END ..........alpha=10, l1_ratio=0.1;, score=-19.160 total time=   0.0s\n",
      "[CV 3/5] END ..........alpha=10, l1_ratio=0.1;, score=-27.635 total time=   0.0s\n",
      "[CV 4/5] END ..........alpha=10, l1_ratio=0.1;, score=-24.154 total time=   0.0s\n",
      "[CV 5/5] END ..........alpha=10, l1_ratio=0.1;, score=-18.968 total time=   0.0s\n",
      "[CV 1/5] END ..........alpha=10, l1_ratio=0.5;, score=-31.130 total time=   0.0s\n",
      "[CV 2/5] END ..........alpha=10, l1_ratio=0.5;, score=-22.549 total time=   0.0s\n",
      "[CV 3/5] END ..........alpha=10, l1_ratio=0.5;, score=-31.155 total time=   0.0s\n",
      "[CV 4/5] END ..........alpha=10, l1_ratio=0.5;, score=-27.963 total time=   0.0s\n",
      "[CV 5/5] END ..........alpha=10, l1_ratio=0.5;, score=-21.698 total time=   0.0s\n",
      "[CV 1/5] END ..........alpha=10, l1_ratio=0.7;, score=-31.130 total time=   0.0s\n",
      "[CV 2/5] END ..........alpha=10, l1_ratio=0.7;, score=-22.549 total time=   0.0s\n",
      "[CV 3/5] END ..........alpha=10, l1_ratio=0.7;, score=-31.155 total time=   0.0s\n",
      "[CV 4/5] END ..........alpha=10, l1_ratio=0.7;, score=-27.963 total time=   0.0s\n",
      "[CV 5/5] END ..........alpha=10, l1_ratio=0.7;, score=-21.698 total time=   0.0s\n",
      "[CV 1/5] END ..........alpha=10, l1_ratio=0.9;, score=-31.130 total time=   0.0s\n",
      "[CV 2/5] END ..........alpha=10, l1_ratio=0.9;, score=-22.549 total time=   0.0s\n",
      "[CV 3/5] END ..........alpha=10, l1_ratio=0.9;, score=-31.155 total time=   0.0s\n",
      "[CV 4/5] END ..........alpha=10, l1_ratio=0.9;, score=-27.963 total time=   0.0s\n",
      "[CV 5/5] END ..........alpha=10, l1_ratio=0.9;, score=-21.698 total time=   0.0s\n",
      "[CV 1/5] END ............alpha=10, l1_ratio=1;, score=-31.130 total time=   0.0s\n",
      "[CV 2/5] END ............alpha=10, l1_ratio=1;, score=-22.549 total time=   0.0s\n",
      "[CV 3/5] END ............alpha=10, l1_ratio=1;, score=-31.155 total time=   0.0s\n",
      "[CV 4/5] END ............alpha=10, l1_ratio=1;, score=-27.963 total time=   0.0s\n",
      "[CV 5/5] END ............alpha=10, l1_ratio=1;, score=-21.698 total time=   0.0s\n",
      "[CV 1/5] END .........alpha=100, l1_ratio=0.1;, score=-31.130 total time=   0.0s\n",
      "[CV 2/5] END .........alpha=100, l1_ratio=0.1;, score=-22.549 total time=   0.0s\n",
      "[CV 3/5] END .........alpha=100, l1_ratio=0.1;, score=-31.155 total time=   0.0s\n",
      "[CV 4/5] END .........alpha=100, l1_ratio=0.1;, score=-27.963 total time=   0.0s\n",
      "[CV 5/5] END .........alpha=100, l1_ratio=0.1;, score=-21.698 total time=   0.0s\n",
      "[CV 1/5] END .........alpha=100, l1_ratio=0.5;, score=-31.130 total time=   0.0s\n",
      "[CV 2/5] END .........alpha=100, l1_ratio=0.5;, score=-22.549 total time=   0.0s\n",
      "[CV 3/5] END .........alpha=100, l1_ratio=0.5;, score=-31.155 total time=   0.0s\n",
      "[CV 4/5] END .........alpha=100, l1_ratio=0.5;, score=-27.963 total time=   0.0s\n",
      "[CV 5/5] END .........alpha=100, l1_ratio=0.5;, score=-21.698 total time=   0.0s\n",
      "[CV 1/5] END .........alpha=100, l1_ratio=0.7;, score=-31.130 total time=   0.0s\n",
      "[CV 2/5] END .........alpha=100, l1_ratio=0.7;, score=-22.549 total time=   0.0s\n",
      "[CV 3/5] END .........alpha=100, l1_ratio=0.7;, score=-31.155 total time=   0.0s\n",
      "[CV 4/5] END .........alpha=100, l1_ratio=0.7;, score=-27.963 total time=   0.0s\n",
      "[CV 5/5] END .........alpha=100, l1_ratio=0.7;, score=-21.698 total time=   0.0s\n",
      "[CV 1/5] END .........alpha=100, l1_ratio=0.9;, score=-31.130 total time=   0.0s\n",
      "[CV 2/5] END .........alpha=100, l1_ratio=0.9;, score=-22.549 total time=   0.0s\n",
      "[CV 3/5] END .........alpha=100, l1_ratio=0.9;, score=-31.155 total time=   0.0s\n",
      "[CV 4/5] END .........alpha=100, l1_ratio=0.9;, score=-27.963 total time=   0.0s\n",
      "[CV 5/5] END .........alpha=100, l1_ratio=0.9;, score=-21.698 total time=   0.0s\n",
      "[CV 1/5] END ...........alpha=100, l1_ratio=1;, score=-31.130 total time=   0.0s\n",
      "[CV 2/5] END ...........alpha=100, l1_ratio=1;, score=-22.549 total time=   0.0s\n",
      "[CV 3/5] END ...........alpha=100, l1_ratio=1;, score=-31.155 total time=   0.0s\n",
      "[CV 4/5] END ...........alpha=100, l1_ratio=1;, score=-27.963 total time=   0.0s\n",
      "[CV 5/5] END ...........alpha=100, l1_ratio=1;, score=-21.698 total time=   0.0s\n"
     ]
    },
    {
     "data": {
      "text/plain": [
       "GridSearchCV(cv=5, estimator=ElasticNet(),\n",
       "             param_grid={'alpha': [0.1, 1, 10, 100],\n",
       "                         'l1_ratio': [0.1, 0.5, 0.7, 0.9, 1]},\n",
       "             scoring='neg_mean_squared_error', verbose=5)"
      ]
     },
     "execution_count": 171,
     "metadata": {},
     "output_type": "execute_result"
    }
   ],
   "source": [
    "grid_model.fit(X_train,y_train)"
   ]
  },
  {
   "cell_type": "code",
   "execution_count": 172,
   "metadata": {},
   "outputs": [
    {
     "data": {
      "text/plain": [
       "ElasticNet(alpha=0.1, l1_ratio=1)"
      ]
     },
     "execution_count": 172,
     "metadata": {},
     "output_type": "execute_result"
    }
   ],
   "source": [
    "grid_model.best_estimator_"
   ]
  },
  {
   "cell_type": "code",
   "execution_count": 173,
   "metadata": {},
   "outputs": [
    {
     "data": {
      "text/plain": [
       "{'alpha': 0.1, 'l1_ratio': 1}"
      ]
     },
     "execution_count": 173,
     "metadata": {},
     "output_type": "execute_result"
    }
   ],
   "source": [
    "grid_model.best_params_"
   ]
  },
  {
   "cell_type": "code",
   "execution_count": 176,
   "metadata": {},
   "outputs": [
    {
     "data": {
      "text/html": [
       "<div>\n",
       "<style scoped>\n",
       "    .dataframe tbody tr th:only-of-type {\n",
       "        vertical-align: middle;\n",
       "    }\n",
       "\n",
       "    .dataframe tbody tr th {\n",
       "        vertical-align: top;\n",
       "    }\n",
       "\n",
       "    .dataframe thead th {\n",
       "        text-align: right;\n",
       "    }\n",
       "</style>\n",
       "<table border=\"1\" class=\"dataframe\">\n",
       "  <thead>\n",
       "    <tr style=\"text-align: right;\">\n",
       "      <th></th>\n",
       "      <th>mean_fit_time</th>\n",
       "      <th>std_fit_time</th>\n",
       "      <th>mean_score_time</th>\n",
       "      <th>std_score_time</th>\n",
       "      <th>param_alpha</th>\n",
       "      <th>param_l1_ratio</th>\n",
       "      <th>params</th>\n",
       "      <th>split0_test_score</th>\n",
       "      <th>split1_test_score</th>\n",
       "      <th>split2_test_score</th>\n",
       "      <th>split3_test_score</th>\n",
       "      <th>split4_test_score</th>\n",
       "      <th>mean_test_score</th>\n",
       "      <th>std_test_score</th>\n",
       "      <th>rank_test_score</th>\n",
       "    </tr>\n",
       "  </thead>\n",
       "  <tbody>\n",
       "    <tr>\n",
       "      <th>0</th>\n",
       "      <td>0.000618</td>\n",
       "      <td>0.001235</td>\n",
       "      <td>0.000802</td>\n",
       "      <td>0.001604</td>\n",
       "      <td>0.1</td>\n",
       "      <td>0.1</td>\n",
       "      <td>{'alpha': 0.1, 'l1_ratio': 0.1}</td>\n",
       "      <td>-3.453021</td>\n",
       "      <td>-1.405190</td>\n",
       "      <td>-5.789125</td>\n",
       "      <td>-2.187302</td>\n",
       "      <td>-4.645576</td>\n",
       "      <td>-3.496043</td>\n",
       "      <td>1.591601</td>\n",
       "      <td>5</td>\n",
       "    </tr>\n",
       "    <tr>\n",
       "      <th>1</th>\n",
       "      <td>0.000800</td>\n",
       "      <td>0.001600</td>\n",
       "      <td>0.000800</td>\n",
       "      <td>0.001600</td>\n",
       "      <td>0.1</td>\n",
       "      <td>0.5</td>\n",
       "      <td>{'alpha': 0.1, 'l1_ratio': 0.5}</td>\n",
       "      <td>-3.325440</td>\n",
       "      <td>-1.427522</td>\n",
       "      <td>-5.595610</td>\n",
       "      <td>-2.163089</td>\n",
       "      <td>-4.451679</td>\n",
       "      <td>-3.392668</td>\n",
       "      <td>1.506827</td>\n",
       "      <td>4</td>\n",
       "    </tr>\n",
       "    <tr>\n",
       "      <th>2</th>\n",
       "      <td>0.001601</td>\n",
       "      <td>0.001961</td>\n",
       "      <td>0.000000</td>\n",
       "      <td>0.000000</td>\n",
       "      <td>0.1</td>\n",
       "      <td>0.7</td>\n",
       "      <td>{'alpha': 0.1, 'l1_ratio': 0.7}</td>\n",
       "      <td>-3.269880</td>\n",
       "      <td>-1.442432</td>\n",
       "      <td>-5.502437</td>\n",
       "      <td>-2.163950</td>\n",
       "      <td>-4.356738</td>\n",
       "      <td>-3.347088</td>\n",
       "      <td>1.462765</td>\n",
       "      <td>3</td>\n",
       "    </tr>\n",
       "    <tr>\n",
       "      <th>3</th>\n",
       "      <td>0.001593</td>\n",
       "      <td>0.001951</td>\n",
       "      <td>0.000000</td>\n",
       "      <td>0.000000</td>\n",
       "      <td>0.1</td>\n",
       "      <td>0.9</td>\n",
       "      <td>{'alpha': 0.1, 'l1_ratio': 0.9}</td>\n",
       "      <td>-3.221397</td>\n",
       "      <td>-1.465339</td>\n",
       "      <td>-5.416447</td>\n",
       "      <td>-2.173493</td>\n",
       "      <td>-4.263887</td>\n",
       "      <td>-3.308112</td>\n",
       "      <td>1.417693</td>\n",
       "      <td>2</td>\n",
       "    </tr>\n",
       "    <tr>\n",
       "      <th>4</th>\n",
       "      <td>0.000800</td>\n",
       "      <td>0.001600</td>\n",
       "      <td>0.002311</td>\n",
       "      <td>0.001893</td>\n",
       "      <td>0.1</td>\n",
       "      <td>1</td>\n",
       "      <td>{'alpha': 0.1, 'l1_ratio': 1}</td>\n",
       "      <td>-3.206943</td>\n",
       "      <td>-1.480065</td>\n",
       "      <td>-5.376257</td>\n",
       "      <td>-2.182076</td>\n",
       "      <td>-4.218460</td>\n",
       "      <td>-3.292760</td>\n",
       "      <td>1.394613</td>\n",
       "      <td>1</td>\n",
       "    </tr>\n",
       "  </tbody>\n",
       "</table>\n",
       "</div>"
      ],
      "text/plain": [
       "   mean_fit_time  std_fit_time  mean_score_time  std_score_time param_alpha  \\\n",
       "0       0.000618      0.001235         0.000802        0.001604         0.1   \n",
       "1       0.000800      0.001600         0.000800        0.001600         0.1   \n",
       "2       0.001601      0.001961         0.000000        0.000000         0.1   \n",
       "3       0.001593      0.001951         0.000000        0.000000         0.1   \n",
       "4       0.000800      0.001600         0.002311        0.001893         0.1   \n",
       "\n",
       "  param_l1_ratio                           params  split0_test_score  \\\n",
       "0            0.1  {'alpha': 0.1, 'l1_ratio': 0.1}          -3.453021   \n",
       "1            0.5  {'alpha': 0.1, 'l1_ratio': 0.5}          -3.325440   \n",
       "2            0.7  {'alpha': 0.1, 'l1_ratio': 0.7}          -3.269880   \n",
       "3            0.9  {'alpha': 0.1, 'l1_ratio': 0.9}          -3.221397   \n",
       "4              1    {'alpha': 0.1, 'l1_ratio': 1}          -3.206943   \n",
       "\n",
       "   split1_test_score  split2_test_score  split3_test_score  split4_test_score  \\\n",
       "0          -1.405190          -5.789125          -2.187302          -4.645576   \n",
       "1          -1.427522          -5.595610          -2.163089          -4.451679   \n",
       "2          -1.442432          -5.502437          -2.163950          -4.356738   \n",
       "3          -1.465339          -5.416447          -2.173493          -4.263887   \n",
       "4          -1.480065          -5.376257          -2.182076          -4.218460   \n",
       "\n",
       "   mean_test_score  std_test_score  rank_test_score  \n",
       "0        -3.496043        1.591601                5  \n",
       "1        -3.392668        1.506827                4  \n",
       "2        -3.347088        1.462765                3  \n",
       "3        -3.308112        1.417693                2  \n",
       "4        -3.292760        1.394613                1  "
      ]
     },
     "execution_count": 176,
     "metadata": {},
     "output_type": "execute_result"
    }
   ],
   "source": [
    "pd.DataFrame(grid_model.cv_results_).head()"
   ]
  },
  {
   "cell_type": "code",
   "execution_count": null,
   "metadata": {},
   "outputs": [],
   "source": []
  }
 ],
 "metadata": {
  "kernelspec": {
   "display_name": "Python 3.7.0 ('liveclass')",
   "language": "python",
   "name": "python3"
  },
  "language_info": {
   "codemirror_mode": {
    "name": "ipython",
    "version": 3
   },
   "file_extension": ".py",
   "mimetype": "text/x-python",
   "name": "python",
   "nbconvert_exporter": "python",
   "pygments_lexer": "ipython3",
   "version": "3.7.0"
  },
  "orig_nbformat": 4,
  "vscode": {
   "interpreter": {
    "hash": "5ef3544667b0f5fec0e1b2369b8040d7aa5e4e895c88e712d897309059bc75f7"
   }
  }
 },
 "nbformat": 4,
 "nbformat_minor": 2
}
